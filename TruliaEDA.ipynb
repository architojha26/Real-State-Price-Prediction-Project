
EDA, Visualizations and Further data engineering
Author: (EJ) Vivek Pandey
This notebook is to be run after the initial data engineering notebook.

# Dependency imports
import re
import csv
import pandas as pd
import numpy as np
import matplotlib.pyplot as plt
import seaborn as sns

%matplotlib inline
sns.set()
'''
sns.set_style({'axes.facecolor':'#E7E7F0', 'figure.facecolor':'white', \
               'axes.edgecolor': 'white', 'grid.color': 'white', \
              'axes.labelcolor': 'black', 'text.color': 'black', \
              'xtick.color': 'black', 'ytick.color': 'black'})
'''

# plotly standard imports
import plotly
plotly.tools.set_credentials_file(username='vivek.pandey', api_key='GcINHnvXXRBgEUUckTTf')

import plotly.graph_objs as go
import plotly.plotly as py
import plotly.figure_factory as ff
from plotly.offline import download_plotlyjs, init_notebook_mode, plot, iplot
init_notebook_mode(connected=True) 

# Cufflinks wrapper on plotly
import cufflinks

# Notebook customizations
from IPython.display import display
pd.options.display.max_columns = None
pd.options.display.max_colwidth = -1
import warnings
warnings.filterwarnings('ignore')

sns.axes_style()
{'axes.facecolor': '#EAEAF2',
 'axes.edgecolor': 'white',
 'axes.grid': True,
 'axes.axisbelow': True,
 'axes.labelcolor': '.15',
 'figure.facecolor': 'white',
 'grid.color': 'white',
 'grid.linestyle': '-',
 'text.color': '.15',
 'xtick.color': '.15',
 'ytick.color': '.15',
 'xtick.direction': 'out',
 'ytick.direction': 'out',
 'lines.solid_capstyle': 'round',
 'patch.edgecolor': 'w',
 'image.cmap': 'rocket',
 'font.family': ['sans-serif'],
 'font.sans-serif': ['Arial',
  'DejaVu Sans',
  'Liberation Sans',
  'Bitstream Vera Sans',
  'sans-serif'],
 'patch.force_edgecolor': True,
 'xtick.bottom': False,
 'xtick.top': False,
 'ytick.left': False,
 'ytick.right': False,
 'axes.spines.left': True,
 'axes.spines.bottom': True,
 'axes.spines.right': True,
 'axes.spines.top': True}
Properties EDA
properties_df = pd.read_csv("./output/engineered_trulia_properties.csv", sep="|", dtype={'zip_code': str}, encoding="latin1")
properties_df.head()
address	area_sqft	basement_type	built_year	city	exterior_type	heating_type	lot_size	no_of_baths	no_of_bedrooms	no_of_parking_spaces	no_of_stories	parking_type	property_type	property_url	state	tax_amount	tax_year	zip_code
0	160 162 Old Peckslip Rd	1352.0	NaN	1985	Holmes	NaN	NaN	32234.4	3.0	3.0	NaN	NaN	NaN	Multi-Family	https://www.trulia.com/p/ny/holmes/160-162-old-peckslip-rd-holmes-ny-12531--2349467107	NY	7718.79	0	12531
1	10 Cliff Ct	1184.0	NaN	1997	Holmes	NaN	NaN	60984.0	2.5	3.0	NaN	NaN	NaN	Single-Family Home	https://www.trulia.com/p/ny/holmes/10-cliff-ct-holmes-ny-12531--2305202587	NY	8320.40	2017	12531
2	26 Donovan Ln	1890.0	NaN	1992	Holmes	NaN	NaN	110206.8	2.5	3.0	NaN	NaN	NaN	Single-Family Home	https://www.trulia.com/p/ny/holmes/26-donovan-ln-holmes-ny-12531--2349447123	NY	9260.24	2017	12531
3	3130 Grand Concourse #7R	103883.0	NaN	1955	Bronx	NaN	NaN	NaN	NaN	NaN	NaN	NaN	NaN	Coop	https://www.trulia.com/p/ny/bronx/3130-grand-concourse-7r-bronx-ny-10458--2171936520	NY	NaN	2017	10468
4	3130 Grand Concourse #7S	103883.0	NaN	1955	Bronx	NaN	NaN	NaN	NaN	NaN	NaN	NaN	NaN	Coop	https://www.trulia.com/p/ny/bronx/3130-grand-concourse-7s-bronx-ny-10458--2333495270	NY	NaN	2017	10458
properties_df.info()
<class 'pandas.core.frame.DataFrame'>
RangeIndex: 3439991 entries, 0 to 3439990
Data columns (total 19 columns):
address                 object
area_sqft               float64
basement_type           float64
built_year              int64
city                    object
exterior_type           float64
heating_type            float64
lot_size                float64
no_of_baths             float64
no_of_bedrooms          float64
no_of_parking_spaces    float64
no_of_stories           float64
parking_type            float64
property_type           object
property_url            object
state                   object
tax_amount              float64
tax_year                int64
zip_code                object
dtypes: float64(11), int64(2), object(6)
memory usage: 498.7+ MB
# Dropping columns that do not have any value for now
properties_df.drop(axis=0, inplace=True, columns=['basement_type', 'exterior_type', 'heating_type', \
                                                  'no_of_parking_spaces', 'no_of_stories', 'parking_type'])
properties_df.head()
address	area_sqft	built_year	city	lot_size	no_of_baths	no_of_bedrooms	property_type	property_url	state	tax_amount	tax_year	zip_code
0	160 162 Old Peckslip Rd	1352.0	1985	Holmes	32234.4	3.0	3.0	Multi-Family	https://www.trulia.com/p/ny/holmes/160-162-old-peckslip-rd-holmes-ny-12531--2349467107	NY	7718.79	0	12531
1	10 Cliff Ct	1184.0	1997	Holmes	60984.0	2.5	3.0	Single-Family Home	https://www.trulia.com/p/ny/holmes/10-cliff-ct-holmes-ny-12531--2305202587	NY	8320.40	2017	12531
2	26 Donovan Ln	1890.0	1992	Holmes	110206.8	2.5	3.0	Single-Family Home	https://www.trulia.com/p/ny/holmes/26-donovan-ln-holmes-ny-12531--2349447123	NY	9260.24	2017	12531
3	3130 Grand Concourse #7R	103883.0	1955	Bronx	NaN	NaN	NaN	Coop	https://www.trulia.com/p/ny/bronx/3130-grand-concourse-7r-bronx-ny-10458--2171936520	NY	NaN	2017	10468
4	3130 Grand Concourse #7S	103883.0	1955	Bronx	NaN	NaN	NaN	Coop	https://www.trulia.com/p/ny/bronx/3130-grand-concourse-7s-bronx-ny-10458--2333495270	NY	NaN	2017	10458
properties_df.info()
<class 'pandas.core.frame.DataFrame'>
RangeIndex: 3439991 entries, 0 to 3439990
Data columns (total 13 columns):
address           object
area_sqft         float64
built_year        int64
city              object
lot_size          float64
no_of_baths       float64
no_of_bedrooms    float64
property_type     object
property_url      object
state             object
tax_amount        float64
tax_year          int64
zip_code          object
dtypes: float64(5), int64(2), object(6)
memory usage: 341.2+ MB
Analyze and fill missing data
sns.heatmap(properties_df.isnull(), yticklabels=False, cbar=False, cmap='viridis')
<matplotlib.axes._subplots.AxesSubplot at 0x1a16bb5a20>

Lets look at how many rows have fully valid data

Right now, lets only keep entirely usable data and get to model training, we'll come back later for data imputation
properties_df = properties_df[~(properties_df['no_of_bedrooms'].isnull() | properties_df['no_of_baths'].isnull() | \
              (properties_df['no_of_bedrooms'] == 0) | (properties_df['no_of_baths'] == 0) | \
              (properties_df['built_year'] < 1500) | (properties_df['tax_year'] < 1800) | \
              properties_df['tax_amount'].isnull() | (properties_df['tax_amount'] < 10) | \
                properties_df['area_sqft'].isnull() | (properties_df['area_sqft'] < 100) | \
              properties_df['lot_size'].isnull() | (properties_df['lot_size'] < 100) | \
            properties_df['city'].isnull() | properties_df['zip_code'].isnull())]
properties_df
address	area_sqft	built_year	city	lot_size	no_of_baths	no_of_bedrooms	property_type	property_url	state	tax_amount	tax_year	zip_code
1	10 Cliff Ct	1184.0	1997	Holmes	60984.0	2.5	3.0	Single-Family Home	https://www.trulia.com/p/ny/holmes/10-cliff-ct-holmes-ny-12531--2305202587	NY	8320.40	2017	12531
2	26 Donovan Ln	1890.0	1992	Holmes	110206.8	2.5	3.0	Single-Family Home	https://www.trulia.com/p/ny/holmes/26-donovan-ln-holmes-ny-12531--2349447123	NY	9260.24	2017	12531
12	553 Grape Hollow Rd	1272.0	1955	Holmes	40075.2	2.0	3.0	Single-Family Home	https://www.trulia.com/p/ny/holmes/553-grape-hollow-rd-holmes-ny-12531--2305201702	NY	7221.77	2017	12531
13	59 Van De Carr Rd	768.0	1955	Craryville	6098.0	1.0	2.0	Single-Family Home	https://www.trulia.com/p/ny/craryville/59-van-de-carr-rd-craryville-ny-12521--2011547953	NY	1473.62	2017	12521
14	55 Van De Carr Rd	888.0	1951	Craryville	9148.0	1.0	2.0	Single-Family Home	https://www.trulia.com/p/ny/craryville/55-van-de-carr-rd-craryville-ny-12521--2011547934	NY	2129.89	2017	12521
16	126 Taghkanic Churchtown Rd	2775.0	1992	Craryville	510087.6	2.5	3.0	Farm/Ranch	https://www.trulia.com/p/ny/craryville/126-taghkanic-churchtown-rd-craryville-ny-12521--2349607986	NY	12348.22	2017	12521
17	110 Taghkanic Churchtown Rd	1619.0	2003	Craryville	384199.2	2.0	2.0	Single-Family Home	https://www.trulia.com/p/ny/craryville/110-taghkanic-churchtown-rd-craryville-ny-12521--2011547172	NY	10644.01	2017	12521
20	311 Taghkanic Churchtown Rd	1872.0	1990	Craryville	198198.0	1.0	4.0	Single-Family Home	https://www.trulia.com/p/ny/craryville/311-taghkanic-churchtown-rd-craryville-ny-12521--2158455139	NY	7563.77	2017	12521
22	12 Taghkanic Churchtown Rd	1708.0	1998	Craryville	274428.0	1.0	2.0	Single-Family Home	https://www.trulia.com/p/ny/craryville/12-taghkanic-churchtown-rd-craryville-ny-12521--2158455187	NY	5769.40	2017	12521
23	11 Taghkanic Churchtown Rd	1728.0	2007	Craryville	249163.2	2.5	3.0	Single-Family Home	https://www.trulia.com/p/ny/craryville/11-taghkanic-churchtown-rd-craryville-ny-12521--1100838069	NY	5270.54	2017	12521
24	12 Taghkanic Churchtown Rd	1952.0	1996	Craryville	222591.6	1.5	3.0	Single-Family Home	https://www.trulia.com/p/ny/craryville/12-taghkanic-churchtown-rd-craryville-ny-12521--2158455186	NY	6896.60	2017	12521
28	15 Tara Ln	1890.0	2003	Craryville	133729.2	2.0	2.0	Single-Family Home	https://www.trulia.com/p/ny/craryville/15-tara-ln-craryville-ny-12521--2158455201	NY	11356.08	2017	12521
29	34 Taghkanic Churchtown Rd	1622.0	1951	Craryville	109771.2	1.0	3.0	Single-Family Home	https://www.trulia.com/p/ny/craryville/34-taghkanic-churchtown-rd-craryville-ny-12521--2011547695	NY	4500.54	2017	12521
30	15 Tara Ln	1890.0	2003	Craryville	133729.2	2.0	2.0	Single-Family Home	https://www.trulia.com/p/ny/craryville/15-tara-ln-craryville-ny-12521--2158455202	NY	11356.08	2017	12521
32	Tara Ln	3544.0	2011	Craryville	259617.6	3.0	2.0	Single-Family Home	https://www.trulia.com/p/ny/craryville/tara-ln-craryville-ny-12521--2158455233	NY	5488.14	2017	12521
33	33 Tara Ln	1968.0	2005	Craryville	160736.4	2.0	3.0	Single-Family Home	https://www.trulia.com/p/ny/craryville/33-tara-ln-craryville-ny-12521--2011547690	NY	6808.34	2017	12521
34	16 Taghkanic Churchtown Rd	2574.0	1870	Craryville	323215.2	2.0	2.0	Single-Family Home	https://www.trulia.com/p/ny/craryville/16-taghkanic-churchtown-rd-craryville-ny-12521--2158455185	NY	9333.25	2017	12521
37	18 Tara Ln S	1658.0	1940	Craryville	111513.6	1.0	3.0	Single-Family Home	https://www.trulia.com/p/ny/craryville/18-tara-ln-s-craryville-ny-12521--2131886528	NY	4570.54	2017	12521
39	71 Two Town Rd	2814.0	1982	Craryville	875556.0	2.5	4.0	Farm/Ranch	https://www.trulia.com/p/ny/craryville/71-two-town-rd-craryville-ny-12521--2011548038	NY	8309.07	2017	12521
40	52 Two Town Rd	1350.0	1992	Craryville	39639.6	1.5	2.0	Single-Family Home	https://www.trulia.com/p/ny/craryville/52-two-town-rd-craryville-ny-12521--2011547915	NY	3074.64	2017	12521
42	37 Two Town Rd	1242.0	1984	Craryville	174240.0	1.0	3.0	Single-Family Home	https://www.trulia.com/p/ny/craryville/37-two-town-rd-craryville-ny-12521--2011547717	NY	2792.94	2017	12521
45	48 Van De Carr Rd	961.0	1951	Craryville	20908.8	1.0	2.0	Single-Family Home	https://www.trulia.com/p/ny/craryville/48-van-de-carr-rd-craryville-ny-12521--2158446804	NY	2701.22	2017	12521
46	20 Van De Carr Rd	1236.0	1957	Craryville	14810.4	2.0	2.0	Single-Family Home	https://www.trulia.com/p/ny/craryville/20-van-de-carr-rd-craryville-ny-12521--2011547529	NY	3879.47	2017	12521
48	39 Mountain View Dr	1150.0	1978	Holmes	65340.0	1.5	3.0	Single-Family Home	https://www.trulia.com/p/ny/holmes/39-mountain-view-dr-holmes-ny-12531--2305131303	NY	5926.10	2017	12531
49	18 Tara Ln S	1658.0	1940	Craryville	111513.6	1.0	3.0	Single-Family Home	https://www.trulia.com/p/ny/craryville/18-tara-ln-s-craryville-ny-12521--2131886527	NY	4570.54	2017	12521
50	25 Mountain View Dr	1972.0	1979	Holmes	47044.8	1.5	3.0	Single-Family Home	https://www.trulia.com/p/ny/holmes/25-mountain-view-dr-holmes-ny-12531--2305131222	NY	7414.81	2017	12531
51	24 Van De Carr Rd	788.0	1960	Craryville	5227.0	1.0	2.0	Single-Family Home	https://www.trulia.com/p/ny/craryville/24-van-de-carr-rd-craryville-ny-12521--2011547591	NY	1571.00	2017	12521
52	8 Van De Carr Rd	1235.0	1945	Craryville	33105.6	1.0	3.0	Single-Family Home	https://www.trulia.com/p/ny/craryville/8-van-de-carr-rd-craryville-ny-12521--2011548138	NY	3237.43	2017	12521
53	16 Mountain View Dr	1196.0	1979	Holmes	124146.0	2.0	3.0	Single-Family Home	https://www.trulia.com/p/ny/holmes/16-mountain-view-dr-holmes-ny-12531--2305131198	NY	8760.75	2017	12531
54	5 Mountain View Dr	1455.0	1979	Holmes	64904.4	1.5	3.0	Single-Family Home	https://www.trulia.com/p/ny/holmes/5-mountain-view-dr-holmes-ny-12531--2305131175	NY	6007.67	2017	12531
...	...	...	...	...	...	...	...	...	...	...	...	...	...
3439952	6678 Lawrence St	1344.0	1979	Rome	72309.6	1.0	2.0	Single-Family Home	https://www.trulia.com/p/ny/rome/6678-lawrence-st-rome-ny-13440--2012316046	NY	2688.43	2017	13440
3439953	6643 Lamphear Rd	960.0	1990	Rome	45738.0	2.0	3.0	Single-Family Home	https://www.trulia.com/p/ny/rome/6643-lamphear-rd-rome-ny-13440--2012315962	NY	3115.41	2017	13440
3439955	6577 Lamphear Rd	1554.0	1870	Rome	69696.0	2.0	3.0	Single-Family Home	https://www.trulia.com/p/ny/rome/6577-lamphear-rd-rome-ny-13440--2012315802	NY	2656.66	2017	13440
3439957	6579 Lamphear Rd	1752.0	1992	Rome	72309.6	2.0	2.0	Single-Family Home	https://www.trulia.com/p/ny/rome/6579-lamphear-rd-rome-ny-13440--2012315807	NY	6320.16	2017	13440
3439959	6540 Lawrence St	1960.0	1891	Rome	177289.2	1.0	2.0	Single-Family Home	https://www.trulia.com/p/ny/rome/6540-lawrence-st-rome-ny-13440--2012315739	NY	4250.71	2017	13440
3439960	6615 Lawrence St	1872.0	1915	Rome	156816.0	1.5	3.0	Single-Family Home	https://www.trulia.com/p/ny/rome/6615-lawrence-st-rome-ny-13440--2158879219	NY	3715.03	2017	13440
3439961	6573 Lamphear Rd	1416.0	1978	Rome	37461.6	2.5	4.0	Single-Family Home	https://www.trulia.com/p/ny/rome/6573-lamphear-rd-rome-ny-13440--2012315796	NY	5749.72	2017	13440
3439962	6640 Lamphear Rd	1145.0	1987	Rome	64468.8	2.0	4.0	Single-Family Home	https://www.trulia.com/p/ny/rome/6640-lamphear-rd-rome-ny-13440--2012315951	NY	4885.22	2017	13440
3439963	6496 Lawrence St	2725.0	1848	Rome	217800.0	2.0	4.0	Single-Family Home	https://www.trulia.com/p/ny/rome/6496-lawrence-st-rome-ny-13440--2012315661	NY	4972.33	2017	13440
3439964	6533 Lawrence St	1500.0	1991	Rome	95832.0	1.5	3.0	Single-Family Home	https://www.trulia.com/p/ny/rome/6533-lawrence-st-rome-ny-13440--2012315725	NY	4006.87	2017	13440
3439966	6571 Lamphear Rd	1149.0	1974	Rome	38332.8	1.5	4.0	Single-Family Home	https://www.trulia.com/p/ny/rome/6571-lamphear-rd-rome-ny-13440--2012315793	NY	3113.58	2017	13440
3439967	6565 Lamphear Rd	1120.0	1999	Rome	60984.0	2.0	3.0	Single-Family Home	https://www.trulia.com/p/ny/rome/6565-lamphear-rd-rome-ny-13440--2158879186	NY	3102.45	2017	13440
3439968	6486 Lawrence St	1567.0	1970	Rome	45302.4	2.0	3.0	Single-Family Home	https://www.trulia.com/p/ny/rome/6486-lawrence-st-rome-ny-13440--2012315644	NY	3327.15	2017	13440
3439969	6565 Lamphear Rd	1120.0	1999	Rome	60984.0	2.0	3.0	Single-Family Home	https://www.trulia.com/p/ny/rome/6565-lamphear-rd-rome-ny-13440--2158879182	NY	3102.45	2017	13440
3439970	6565 Lamphear Rd	1120.0	1999	Rome	60984.0	2.0	3.0	Single-Family Home	https://www.trulia.com/p/ny/rome/6565-lamphear-rd-rome-ny-13440--2158879185	NY	3102.45	2017	13440
3439971	6565 Lamphear Rd	1120.0	1999	Rome	60984.0	2.0	3.0	Single-Family Home	https://www.trulia.com/p/ny/rome/6565-lamphear-rd-rome-ny-13440--2158879181	NY	3102.45	2017	13440
3439972	6565 Lamphear Rd	1120.0	1999	Rome	60984.0	2.0	3.0	Single-Family Home	https://www.trulia.com/p/ny/rome/6565-lamphear-rd-rome-ny-13440--2158879183	NY	3102.45	2017	13440
3439974	863 Lawrence St	1309.0	1840	Rome	37461.6	1.0	3.0	Single-Family Home	https://www.trulia.com/p/ny/rome/863-lawrence-st-rome-ny-13440--2012320009	NY	1518.23	2017	13440
3439976	6514 Lamphear Rd	1736.0	1870	Rome	56628.0	1.0	3.0	Single-Family Home	https://www.trulia.com/p/ny/rome/6514-lamphear-rd-rome-ny-13440--2012315699	NY	2959.27	2017	13440
3439977	6491 Lamphear Rd	1280.0	1951	Rome	13939.2	2.0	3.0	Single-Family Home	https://www.trulia.com/p/ny/rome/6491-lamphear-rd-rome-ny-13440--2012315653	NY	2624.62	2017	13440
3439978	6792 Lamphear Rd	1291.0	1890	Rome	5663.0	1.0	3.0	Single-Family Home	https://www.trulia.com/p/ny/rome/6792-lamphear-rd-rome-ny-13440--2158879273	NY	2068.20	2017	13440
3439979	6485 Lamphear Rd	3782.0	1890	Rome	52272.0	2.0	4.0	Multi-Family	https://www.trulia.com/p/ny/rome/6485-lamphear-rd-rome-ny-13440--2158879180	NY	4906.93	2017	13440
3439980	6460 Lawrence St	2748.0	1850	Rome	2935944.0	1.0	4.0	Farm/Ranch	https://www.trulia.com/p/ny/rome/6460-lawrence-st-rome-ny-13440--2158905881	NY	5671.51	2017	13440
3439981	778 Lawrence St	1586.0	1930	Rome	239580.0	2.0	5.0	Multi-Family	https://www.trulia.com/p/ny/rome/778-lawrence-st-rome-ny-13440--2012318135	NY	3429.41	2017	13440
3439983	780 Lawrence St	1224.0	1900	Rome	158994.0	1.0	2.0	Single-Family Home	https://www.trulia.com/p/ny/rome/780-lawrence-st-rome-ny-13440--2012318176	NY	1779.31	2017	13440
3439985	6475 Lamphear Rd	2700.0	1925	Rome	36590.4	2.0	4.0	Single-Family Home	https://www.trulia.com/p/ny/rome/6475-lamphear-rd-rome-ny-13440--2012315620	NY	5792.08	2017	13440
3439987	6469 Lamphear Rd	1050.0	1961	Rome	28314.0	1.0	3.0	Single-Family Home	https://www.trulia.com/p/ny/rome/6469-lamphear-rd-rome-ny-13440--2012315605	NY	3312.61	2017	13440
3439988	6453 Lamphear Rd	1475.0	1965	Rome	28749.6	2.0	4.0	Single-Family Home	https://www.trulia.com/p/ny/rome/6453-lamphear-rd-rome-ny-13440--2012315555	NY	4971.36	2017	13440
3439989	6461 Lamphear Rd	1107.0	1964	Rome	29620.8	1.0	3.0	Single-Family Home	https://www.trulia.com/p/ny/rome/6461-lamphear-rd-rome-ny-13440--2012315585	NY	2174.91	2017	13440
3439990	6448 Lamphear Rd	2786.0	1984	Rome	60112.8	1.5	3.0	Single-Family Home	https://www.trulia.com/p/ny/rome/6448-lamphear-rd-rome-ny-13440--2012315529	NY	6506.27	2017	13440
1500111 rows × 13 columns

We've dropped about half the records here, so data imputation is really important for the future to be able to use that data
sns.heatmap(properties_df.isnull(), yticklabels=False, cbar=False, cmap='viridis')
<matplotlib.axes._subplots.AxesSubplot at 0x1a177ca518>

Lets look at the distribution of data in the columns to see come up with close values for imputation

sns.boxplot(data=properties_df[~properties_df['no_of_bedrooms'].isnull() & (properties_df['no_of_bedrooms'] > 0)], \
            x='no_of_bedrooms', y='property_type')
<matplotlib.axes._subplots.AxesSubplot at 0x1a16de8b38>

sns.pairplot(data=properties_df[['area_sqft', 'built_year', 'lot_size', 'no_of_baths', 'no_of_bedrooms', \
                                 'tax_amount', 'tax_year']])
<seaborn.axisgrid.PairGrid at 0x1a16de8ba8>

This subsection to prevent having to re-run the notebook from above
properties_temp = properties_df
properties_df = properties_temp
Find and remove outliers
properties_q1 = properties_df.quantile(0.25)
properties_q3 = properties_df.quantile(0.75)
properties_iqr = properties_q3 - properties_q1

print (properties_q3)
print ('----------------')
print (properties_q1)
print ('----------------')
print (properties_iqr)
area_sqft         2192.00 
built_year        1982.00 
lot_size          41382.00
no_of_baths       2.50    
no_of_bedrooms    4.00    
tax_amount        7811.69 
tax_year          2018.00 
Name: 0.75, dtype: float64
----------------
area_sqft         1250.000
built_year        1930.000
lot_size          7677.000
no_of_baths       1.000   
no_of_bedrooms    3.000   
tax_amount        3154.335
tax_year          2017.000
Name: 0.25, dtype: float64
----------------
area_sqft         942.000  
built_year        52.000   
lot_size          33705.000
no_of_baths       1.500    
no_of_bedrooms    1.000    
tax_amount        4657.355 
tax_year          1.000    
dtype: float64
Some columns within a limited range might be better off without outlier filtering to prevent losing large amount of data, so remove the ones from the IQR series that we don't want to filter outliers for.

Also, adjust the weights to multiply the individual column IQR's by, to prevent overfiltering or underfiltering. To gauge this, look at the pairplot above to get an idea of the data, and also the various quartiles calculated.

properties_iqr = properties_iqr.drop(labels=['built_year', 'tax_year'])
properties_iqr
area_sqft         942.000  
lot_size          33705.000
no_of_baths       1.500    
no_of_bedrooms    1.000    
tax_amount        4657.355 
dtype: float64
prop_high_outlier_wts = {
    'area_sqft': 14,
    'lot_size': 120,
    'no_of_baths': 7,
    'no_of_bedrooms': 11,
    'tax_amount': 20
}

prop_low_outlier_wts = {
    'area_sqft': 1.5,
    'lot_size': 1.5,
    'no_of_baths': 1.5,
    'no_of_bedrooms': 2,
    'tax_amount': 0.5
}
for index, value in properties_iqr.items():
    print(index, value)
    # Select only the records that fall within the valid range, automatically ignores outliers
    properties_df = properties_df[(properties_df[index] >= (properties_q1[index] - 1.5 * properties_iqr[index])) & \
                                  (properties_df[index] <= (properties_q3[index] + 1.5 * properties_iqr[index]))]
    print(properties_df.shape)
area_sqft 942.0
(1445691, 13)
lot_size 33705.0
(1278641, 13)
no_of_baths 1.5
(1276444, 13)
no_of_bedrooms 1.0
(1204420, 13)
tax_amount 4657.355
(1177542, 13)
properties_df.reset_index(drop=True, inplace=True)
properties_df.head()
address	area_sqft	built_year	city	lot_size	no_of_baths	no_of_bedrooms	property_type	property_url	state	tax_amount	tax_year	zip_code
0	10 Cliff Ct	1184.0	1997	Holmes	60984.0	2.5	3.0	Single-Family Home	https://www.trulia.com/p/ny/holmes/10-cliff-ct-holmes-ny-12531--2305202587	NY	8320.40	2017	12531
1	553 Grape Hollow Rd	1272.0	1955	Holmes	40075.2	2.0	3.0	Single-Family Home	https://www.trulia.com/p/ny/holmes/553-grape-hollow-rd-holmes-ny-12531--2305201702	NY	7221.77	2017	12531
2	59 Van De Carr Rd	768.0	1955	Craryville	6098.0	1.0	2.0	Single-Family Home	https://www.trulia.com/p/ny/craryville/59-van-de-carr-rd-craryville-ny-12521--2011547953	NY	1473.62	2017	12521
3	55 Van De Carr Rd	888.0	1951	Craryville	9148.0	1.0	2.0	Single-Family Home	https://www.trulia.com/p/ny/craryville/55-van-de-carr-rd-craryville-ny-12521--2011547934	NY	2129.89	2017	12521
4	52 Two Town Rd	1350.0	1992	Craryville	39639.6	1.5	2.0	Single-Family Home	https://www.trulia.com/p/ny/craryville/52-two-town-rd-craryville-ny-12521--2011547915	NY	3074.64	2017	12521
sns.heatmap(data=properties_df.corr(), linewidths=0.5, annot=True)
<matplotlib.axes._subplots.AxesSubplot at 0x1a177bd2b0>

High and medium correlated features from Properties
area_sqft vs. no_of_baths (0.74)
area_sqft vs. tax_amount (0.66)
no_of_baths vs. tax_amount (0.61)
area_sqft vs. no_of_bedrooms (0.58)
no_of_bedrooms vs no_of_baths (0.49)
Replotting relationships after removing outliers
sns.pairplot(data=properties_df[['area_sqft', 'built_year', 'lot_size', 'no_of_baths', 'no_of_bedrooms', \
                                 'tax_amount', 'tax_year']])
<seaborn.axisgrid.PairGrid at 0x1a1824c400>

properties_df = properties_df.drop_duplicates()
properties_df.info()
<class 'pandas.core.frame.DataFrame'>
Int64Index: 1177542 entries, 0 to 1177541
Data columns (total 13 columns):
address           1177542 non-null object
area_sqft         1177542 non-null float64
built_year        1177542 non-null int64
city              1177542 non-null object
lot_size          1177542 non-null float64
no_of_baths       1177542 non-null float64
no_of_bedrooms    1177542 non-null float64
property_type     1177542 non-null object
property_url      1177542 non-null object
state             1177542 non-null object
tax_amount        1177542 non-null float64
tax_year          1177542 non-null int64
zip_code          1177542 non-null object
dtypes: float64(5), int64(2), object(6)
memory usage: 125.8+ MB
Plotting in US Map
Convert the cell types to Code to use it
Making a new column with a default value of one, so its value can be passed to map

properties_df_for_map = properties_df properties_df_for_map['z'] = 1

properties_map_data = dict(type='choropleth', colorscale = 'YlOrRd', locations = properties_df_for_map['state'], z = properties_df_for_map['z'], locationmode = 'USA-states', text = properties_df_for_map['state'], marker = dict(line = dict(color = 'rgb(255,255,255)',width = 2)), colorbar = {'title':"Properties in US"} )

properties_map_layout = dict(title = 'US Properties by State', geo = dict(scope='usa', showlakes = True, lakecolor = 'rgb(85,173,240)') )

properties_choromap = go.Figure(data=[properties_map_data], layout=properties_map_layout)

'''
DO NOT UNCOMMENT, THE NOTEBOOK WILL FREEZE AND CRASH WHILE RENDERING THIS MAP
iplot(properties_choromap)
'''
'\nDO NOT UNCOMMENT, THE NOTEBOOK WILL FREEZE AND CRASH WHILE RENDERING THIS MAP\niplot(properties_choromap)\n'
Transactions EDA
transactions_df = pd.read_csv("./output/engineered_trulia_transactions.csv", sep="|", parse_dates=['recording_date', 'contract_date'], \
                              encoding="latin1")
transactions_df.head()
contract_date	county_transfer_tax	document_type	price	property_url	recording_date	total_transfer_tax	transaction_type
0	1995-11-17	NaN	Deed	146796.0	https://www.trulia.com/p/ny/holmes/160-162-old-peckslip-rd-holmes-ny-12531--2349467107	1995-12-12	NaN	Purchase/Resale Arm's Length Residential Transaction
1	2001-06-25	NaN	Deed	224000.0	https://www.trulia.com/p/ny/holmes/10-cliff-ct-holmes-ny-12531--2305202587	2001-07-30	NaN	Purchase/Resale Arm's Length Residential Transaction
2	2013-09-19	NaN	Deed	70000.0	https://www.trulia.com/p/ny/craryville/4-wheel-dr-craryville-ny-12521--2204807965	2013-09-19	NaN	Insured Non-Residential Grant Deed
3	2006-12-28	NaN	Deed	42500.0	https://www.trulia.com/p/ny/craryville/4-wheel-dr-craryville-ny-12521--2204807965	2007-01-03	NaN	Insured Non-Residential Grant Deed
4	2018-11-08	NaN	Deed	325000.0	https://www.trulia.com/p/ny/craryville/10-wang-dr-craryville-ny-12521--2011547166	2018-11-27	NaN	Purchase/Resale Arm's Length Residential Transaction
transactions_df.info()
<class 'pandas.core.frame.DataFrame'>
RangeIndex: 3358672 entries, 0 to 3358671
Data columns (total 8 columns):
contract_date          datetime64[ns]
county_transfer_tax    float64
document_type          object
price                  float64
property_url           object
recording_date         datetime64[ns]
total_transfer_tax     float64
transaction_type       object
dtypes: datetime64[ns](2), float64(3), object(3)
memory usage: 205.0+ MB
transactions_df.describe()
county_transfer_tax	price	total_transfer_tax
count	281330.000000	3.358672e+06	1.076604e+06
mean	947.468318	2.958757e+05	1.558834e+03
std	3139.893910	2.138053e+06	3.742335e+03
min	0.000000	1.000000e+00	0.000000e+00
25%	225.000000	1.040000e+05	3.130000e+02
50%	502.000000	1.946995e+05	7.750000e+02
75%	975.000000	3.499000e+05	1.575000e+03
max	99750.000000	1.850000e+09	9.968800e+04
sns.heatmap(transactions_df.isnull(), yticklabels=False, cbar=False, cmap='viridis')
<matplotlib.axes._subplots.AxesSubplot at 0x1a196403c8>

Dropping the county_transfer_tax and total_transfer_tax columns cause they are heavily nulls and removing rows that have incomplete data cause they are few
transactions_df = transactions_df.drop(columns=['county_transfer_tax', 'total_transfer_tax'], axis=1)
transactions_df.head()
contract_date	document_type	price	property_url	recording_date	transaction_type
0	1995-11-17	Deed	146796.0	https://www.trulia.com/p/ny/holmes/160-162-old-peckslip-rd-holmes-ny-12531--2349467107	1995-12-12	Purchase/Resale Arm's Length Residential Transaction
1	2001-06-25	Deed	224000.0	https://www.trulia.com/p/ny/holmes/10-cliff-ct-holmes-ny-12531--2305202587	2001-07-30	Purchase/Resale Arm's Length Residential Transaction
2	2013-09-19	Deed	70000.0	https://www.trulia.com/p/ny/craryville/4-wheel-dr-craryville-ny-12521--2204807965	2013-09-19	Insured Non-Residential Grant Deed
3	2006-12-28	Deed	42500.0	https://www.trulia.com/p/ny/craryville/4-wheel-dr-craryville-ny-12521--2204807965	2007-01-03	Insured Non-Residential Grant Deed
4	2018-11-08	Deed	325000.0	https://www.trulia.com/p/ny/craryville/10-wang-dr-craryville-ny-12521--2011547166	2018-11-27	Purchase/Resale Arm's Length Residential Transaction
transactions_df = transactions_df[~(transactions_df['contract_date'].isnull() | \
                                    transactions_df['document_type'].isnull() | \
                                   transactions_df['transaction_type'].isnull() | \
                                   (transactions_df['price'] < 1000))]
transactions_df.shape
(2453848, 6)
transactions_df['recording_year'] = transactions_df['recording_date'].dt.year
transactions_df['recording_month'] = transactions_df['recording_date'].dt.month
transactions_df['recording_day'] = transactions_df['recording_date'].dt.day
transactions_df['contract_year'] = transactions_df['contract_date'].dt.year
transactions_df['contract_month'] = transactions_df['contract_date'].dt.month
transactions_df['contract_day'] = transactions_df['contract_date'].dt.day

transactions_df = transactions_df.drop(columns=['recording_date', 'contract_date'], axis=1)
transactions_df.head()
document_type	price	property_url	transaction_type	recording_year	recording_month	recording_day	contract_year	contract_month	contract_day
0	Deed	146796.0	https://www.trulia.com/p/ny/holmes/160-162-old-peckslip-rd-holmes-ny-12531--2349467107	Purchase/Resale Arm's Length Residential Transaction	1995	12	12	1995	11	17
1	Deed	224000.0	https://www.trulia.com/p/ny/holmes/10-cliff-ct-holmes-ny-12531--2305202587	Purchase/Resale Arm's Length Residential Transaction	2001	7	30	2001	6	25
2	Deed	70000.0	https://www.trulia.com/p/ny/craryville/4-wheel-dr-craryville-ny-12521--2204807965	Insured Non-Residential Grant Deed	2013	9	19	2013	9	19
3	Deed	42500.0	https://www.trulia.com/p/ny/craryville/4-wheel-dr-craryville-ny-12521--2204807965	Insured Non-Residential Grant Deed	2007	1	3	2006	12	28
4	Deed	325000.0	https://www.trulia.com/p/ny/craryville/10-wang-dr-craryville-ny-12521--2011547166	Purchase/Resale Arm's Length Residential Transaction	2018	11	27	2018	11	8
sns.boxplot(data=transactions_df, x='price', y='transaction_type')
<matplotlib.axes._subplots.AxesSubplot at 0x1a577232b0>

sns.pairplot(data=transactions_df)
<seaborn.axisgrid.PairGrid at 0x1a4d51de48>

This subsection to prevent having to re-run the notebook from above
transactions_temp = transactions_df
transactions_df = transactions_temp
Find, analyze and remove outliers in transaction data
transactions_q1 = transactions_df.quantile(0.25)
transactions_q3 = transactions_df.quantile(0.75)
transactions_iqr = transactions_q3 - transactions_q1

print (transactions_q3)
print ('----------------')
print (transactions_q1)
print ('----------------')
print (transactions_iqr)
price              356000.0
recording_year     2012.0  
recording_month    10.0    
recording_day      23.0    
contract_year      2012.0  
contract_month     10.0    
contract_day       25.0    
Name: 0.75, dtype: float64
----------------
price              98500.0
recording_year     2000.0 
recording_month    4.0    
recording_day      8.0    
contract_year      2000.0 
contract_month     4.0    
contract_day       9.0    
Name: 0.25, dtype: float64
----------------
price              257500.0
recording_year     12.0    
recording_month    6.0     
recording_day      15.0    
contract_year      12.0    
contract_month     6.0     
contract_day       16.0    
dtype: float64
Some columns within a limited range might be better off without outlier filtering to prevent losing large amount of data, so remove the ones from the IQR series that we don't want to filter outliers for.

Also, adjust the weights to multiply the individual column IQR's by, to prevent overfiltering or underfiltering. To gauge this, look at the pairplot above to get an idea of the data, and also the various quartiles calculated.

transactions_iqr = transactions_iqr.drop(labels=['recording_month', 'recording_day', 'contract_month', 'contract_day'])
transactions_iqr
price             257500.0
recording_year    12.0    
contract_year     12.0    
dtype: float64
transactions_df.shape
(2453848, 10)
transactions_df[transactions_df['price'] > 1000000].shape
(50138, 10)
transactions_df[transactions_df['price'] < 10000].shape
(58717, 10)
It is important to adjust the weights for the outliers based on the Q1, Q3 and IQR values retrieved above to ensure we filter just the right number of outliers

txn_high_outlier_wts = {
    'price': 3,
    'recording_year': 0.6,
    'contract_year': 0.6
}

txn_low_outlier_wts = {
    'price': 0.28,
    'recording_year': 1.2,
    'contract_year': 1.2
}
for index, value in transactions_iqr.items():
    print(index, value)
    # Select only the records that fall within the valid range, automatically ignores outliers
    transactions_df = transactions_df[(transactions_df[index] >= (transactions_q1[index] - 1.5 * transactions_iqr[index])) & \
                                  (transactions_df[index] <= (transactions_q3[index] + 1.5 * transactions_iqr[index]))]
    print(transactions_df.shape)
price 257500.0
(2334236, 10)
recording_year 12.0
(2334236, 10)
contract_year 12.0
(2334011, 10)
transactions_df.reset_index(drop=True, inplace=True)
transactions_df.shape
(2334011, 10)
sns.heatmap(data=transactions_df.corr(), linewidths=0.5, annot=True)
<matplotlib.axes._subplots.AxesSubplot at 0x1a4ed0a390>

High and medium correlated features from Transactions
recording_year vs. contract_year (1)
recording_month vs. contract_month (0.66)
Replotting relationships after removing outliers
sns.pairplot(data=transactions_df)
<seaborn.axisgrid.PairGrid at 0x1a4a7bbac8>

sns.boxplot(data=transactions_df, x='price')
<matplotlib.axes._subplots.AxesSubplot at 0x1a1fc200f0>

sns.distplot(transactions_df['price'], bins=5)
<matplotlib.axes._subplots.AxesSubplot at 0x1a4a7b6eb8>

Playin around with plot.ly
transactions_df[['price', 'total_transfer_tax']].iplot(kind='box')

transactions_df['price'].iplot(kind='hist', xTitle='price', yTitle='count', title='Price Distribution')

transactions_matrix_fig = ff.create_scatterplotmatrix(transactions_df[['price', 'total_transfer_tax',
'county_transfer_tax']], diag='histogram') py.iplot(transactions_matrix_fig)

transactions_df[transactions_df['price'] == transactions_df['price'].max()]

Enriching transactions data with properties data
transactions_master_df = pd.merge(transactions_df, properties_df, how='inner', on=['property_url'])
print(transactions_master_df.shape)
transactions_master_df.head()
(788150, 22)
document_type	price	property_url	transaction_type	recording_year	recording_month	recording_day	contract_year	contract_month	contract_day	address	area_sqft	built_year	city	lot_size	no_of_baths	no_of_bedrooms	property_type	state	tax_amount	tax_year	zip_code
0	Deed	224000.0	https://www.trulia.com/p/ny/holmes/10-cliff-ct-holmes-ny-12531--2305202587	Purchase/Resale Arm's Length Residential Transaction	2001	7	30	2001	6	25	10 Cliff Ct	1184.0	1997	Holmes	60984.0	2.5	3.0	Single-Family Home	NY	8320.40	2017	12531
1	REO Resale	55000.0	https://www.trulia.com/p/ny/craryville/52-two-town-rd-craryville-ny-12521--2011547915	Purchase/Resale Arm's Length Residential Transaction	2017	5	24	2017	5	10	52 Two Town Rd	1350.0	1992	Craryville	39639.6	1.5	2.0	Single-Family Home	NY	3074.64	2017	12521
2	REO Repossession	137337.0	https://www.trulia.com/p/ny/craryville/52-two-town-rd-craryville-ny-12521--2011547915	REO and Trustee Deed	2015	11	20	2015	10	6	52 Two Town Rd	1350.0	1992	Craryville	39639.6	1.5	2.0	Single-Family Home	NY	3074.64	2017	12521
3	Deed	50000.0	https://www.trulia.com/p/ny/craryville/48-van-de-carr-rd-craryville-ny-12521--2158446804	Purchase/Resale Arm's Length Residential Transaction	1996	7	30	1996	7	9	48 Van De Carr Rd	961.0	1951	Craryville	20908.8	1.0	2.0	Single-Family Home	NY	2701.22	2017	12521
4	REO Resale	99900.0	https://www.trulia.com/p/ny/craryville/20-van-de-carr-rd-craryville-ny-12521--2011547529	Purchase/Resale Arm's Length Residential Transaction	2010	12	20	2010	12	15	20 Van De Carr Rd	1236.0	1957	Craryville	14810.4	2.0	2.0	Single-Family Home	NY	3879.47	2017	12521
Exporting to continue in another notebook
transactions_master_df.to_csv("output/post_eda_transactions_master.csv", sep='|', index=False, quoting=csv.QUOTE_NONE)
 
